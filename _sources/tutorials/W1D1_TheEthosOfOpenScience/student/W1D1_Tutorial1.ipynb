{
 "cells": [
  {
   "cell_type": "markdown",
   "metadata": {
    "execution": {}
   },
   "source": [
    "# Day 1: The Ethos of Open Science\n",
    "\n",
    "**By Neuromatch Academy & NASA**\n",
    "\n",
    "__Content creators:__ [NASA](https://github.com/nasa/Transform-to-Open-Science), Leanna Kalinowski, Hlib Solodzhuk, Ohad Zivan\n",
    "\n",
    "__Content reviewers:__ Leanna Kalinowski, Hlib Solodzhuk, Ohad Zivan, Shubhrojit Misra, Viviana Greco, Courtney Dean\n",
    "\n",
    "__Production editors:__ Hlib Solodzhuk, Konstantine Tsafatinos, Ella Batty, Spiros Chavlis"
   ]
  },
  {
   "cell_type": "markdown",
   "metadata": {
    "execution": {}
   },
   "source": [
    "___\n",
    "\n",
    "## Tutorial Objectives\n",
    "\n",
    "*Estimated timing of tutorial: 2 hours*\n",
    "\n",
    "An introduction to open science, which is the principle and practice of making research products and processes available to all, while respecting diverse cultures, maintaining security and privacy, and fostering collaborations, reproducibility, and equity. In this module, you will take a closer look at what open science is, including the current landscape as well as the benefits and challenges. You then get a glimpse into the practice of open science, including case studies and examples. Lastly, you are presented with actions that you can take starting today, such as exploring communities that they can engage with."
   ]
  },
  {
   "cell_type": "markdown",
   "metadata": {},
   "source": [
    "\n"
   ]
  },
  {
   "cell_type": "code",
   "execution_count": null,
   "metadata": {
    "cellView": "form",
    "execution": {},
    "tags": [
     "remove-input"
    ]
   },
   "outputs": [],
   "source": [
    "# @markdown\n",
    "from IPython.display import IFrame\n",
    "from ipywidgets import widgets\n",
    "out = widgets.Output()\n",
    "with out:\n",
    "    print(f\"If you want to download the slides: https://osf.io/download/hjxv5/\")\n",
    "    display(IFrame(src=f\"https://mfr.ca-1.osf.io/render?url=https://osf.io/hjxv5/?direct%26mode=render%26action=download%26mode=render\", width=730, height=410))\n",
    "display(out)"
   ]
  },
  {
   "cell_type": "markdown",
   "metadata": {
    "execution": {}
   },
   "source": [
    "---\n",
    "\n",
    "## Section 1: What is Open Science?\n",
    "\n",
    "In this section, you take a closer look at what open science means, including the intended goals and outcomes of adopting open science as an individual and as part of a larger community. You then review examples of open science in action. Finally, you wrap up the section by taking a closer look at why adopting open science is needed."
   ]
  },
  {
   "cell_type": "markdown",
   "metadata": {
    "execution": {}
   },
   "source": [
    "### Ethos of Open Science\n",
    "\n",
    "Let's begin by explaining the word \"ethos\".\n",
    "\n",
    "> \"Ethos is the distinguishing character, sentiment, moral nature, or guiding beliefs of a person, group.\"\n",
    "\n",
    "**Merriam-Webster**\n",
    "\n",
    "\n",
    "Note that \"ethos\" is not exactly \"ethics\", but offers a broad enough term to include the **moral attitudes** held by the individuals or institutions who practice open science. To clarify the moral element to this discussion, we speak of **\"responsible open science\"** going forward. Throughout this tutorial, we have integrated ethics around open science that dictate how you share, give due credit, and work together. **\"Practice the Golden Rule\"** - treat others the way you would like to be treated in their situation."
   ]
  },
  {
   "cell_type": "markdown",
   "metadata": {
    "execution": {}
   },
   "source": [
    "### Open Science at NASA\n",
    "\n",
    "NASA funds some of the most diverse research of any federal agency and has a history of sharing research and results going back to the **Apollo Program** in the 1960s. NASA's **Transform to Open Science** program emphasizes sharing guidelines and best practices that apply to its diverse research efforts, cultivating a culture of openness. NASA's commitment to open science enhances **collaboration** across various research domains, from astrobiology to physics, allowing broader access to important scientific information. NASA **datasets** include biology, chemistry, environmental science, geology, and other fields related to robotic and human planetary exploration, stellar evolution, and the search for extraterrestrial life.\n",
    "\n",
    "<img src=\"https://github.com/neuromatch/nasa-open-science/blob/main/tutorials/W1D1_TheEthosOfOpenScience/static/image238.png?raw=true\" alt = \"NASA's logo\"/>\n",
    "\n",
    "The open science practices and principles that play a critical role supporting NASA mission success are equally relevant to other government agencies and institutions. Similar considerations, approaches, and behaviors are needed in a variety of scientific contexts. **Tools for open science** frameworks and workflows **follow generally similar models**.\n",
    "\n",
    "#### <span style = \"color: orange\">Case Study:</span> Open Science in Action at NASA\n",
    "\n",
    "Open science practices and principles can be applied to all stages of the research process. One early example of NASA's efforts to involve more people in science is the [exoplanet citizen science projects](https://exoplanets.nasa.gov/citizen-science/), with the **[Exoplanet Explorers](https://www.zooniverse.org/projects/ianc2/exoplanet-explorers)** being a significant part of this effort.\n",
    "\n",
    "<img src=\"https://github.com/neuromatch/nasa-open-science/blob/main/tutorials/W1D1_TheEthosOfOpenScience/static/image266.jpg?raw=true\" alt = \"Exoplanet Explorers program results\"/>\n",
    "\n",
    "\"Stargazing Live\", a live television program, took place across three consecutive nights in 2017. The hosts invited viewers to identify exoplanets in an **open access dataset**. Within 48 hours of the program's debut, more than 10,000 people had participated in [Exoplanet Explorers](https://www.zooniverse.org/projects/ianc2/exoplanet-explorers) and classified over 2 million systems.\n",
    "\n",
    "Following the first night of the program, the researchers watched the results roll in, as citizen scientists helped sift through the data. On the second night, enough people had participated that the researchers were able to share that 44 Jupiter-size candidate planets, 72 Neptune-size candidate planets, 53 sub-Neptune size candidate planets (larger than Earth but smaller than Neptune), and 44 Earth-size candidate planets had already been found and were undergoing additional analysis.\n",
    "\n",
    "**Communities, working together on a problem, can rapidly find new results!** Open science enables this and more."
   ]
  },
  {
   "cell_type": "markdown",
   "metadata": {
    "execution": {}
   },
   "source": [
    "### The Internet and Open Science"
   ]
  },
  {
   "cell_type": "markdown",
   "metadata": {
    "execution": {}
   },
   "source": [
    "Historically, factors like time, access to sufficient tools and data, and physical proximity limited who could be involved in science, as well as how easily collaboration could take place within the scientific community. More recently, digital resources like the Internet have increased participation by **eliminating barriers to entry** and presenting a platform for digital collaboration on a global scale. The internet offered people **access to the appropriate infrastructure** to conduct open science, while the practices of open science enabled **more people to engage with research products**. Unfortunately, challenges remain for people who don't have the right computational tools and/or speak the relevant languages.\n",
    "\n",
    "The Internet creates many outlets for public hosting and **free access to research and data**. These outlets combined with **advances in computational power** enable nearly anyone to perform complex data analysis. It is now possible to connect participants, stakeholders, and outputs of open science on the Internet to make scientific processes and products easier to discover and access."
   ]
  },
  {
   "cell_type": "markdown",
   "metadata": {
    "execution": {}
   },
   "source": [
    "### Why Should We Do Open Science Now?\n",
    "\n",
    "Science and science communication increasingly face severe pushback from the public because of inadequacies in the reproducibility of results and the spread of misinformation, respectively, that foster mistrust. The practice of open science counteracts this by involving community feedback to validate results in a more robust manner and combats misinformation **by making results available to the public**.\n",
    "\n",
    "#### Reproducibility Challenges\n",
    "\n",
    "Science becomes more robust and accurate when scientists validate their colleagues' results. However, the rapidly-growing pool of published research presents an overwhelming challenge to reproduce:\n",
    "\n",
    "- In 2011, the AAAS, publisher of Science, began requiring the authors of computational research reports to share data and software upon request.\n",
    "- In 2018, a [research study](https://www.pnas.org/doi/full/10.1073/pnas.1708290115) was carried out that investigated 204 articles for reproducibility and that were published in the journal Science after 2011. It was found that **only 26% of papers were able to be reproduced**, with the two primary reasons being the inability to get access to the data and software and the fact that the methods were not described in sufficient detail.\n",
    "\n",
    "#### <span style = \"color: orange\">Case Study</span>: Open Results Enable Iteration and Improve Error-Detection\n",
    "\n",
    "We will look at an example of how closed science can restrict research impact by [following the outcome](https://digitalcommons.unl.edu/cgi/viewcontent.cgi?article=1318&context=usdeptcommercepub) of a highly cited journal article to understand how science functions to inform a field’s state of research, the decisions of policymakers, and the actions of society.\n",
    "\n",
    "<img src=\"https://github.com/neuromatch/nasa-open-science/blob/main/tutorials/W1D1_TheEthosOfOpenScience/static/image220.png?raw=true\" alt = \"The global cooling error timelime\"/>\n",
    "\n",
    "A 1990 analysis of satellite data on climate temperature concluded that the upper troposphere experienced no warming, a **finding that contradicted early climate models predictions**. Policymakers concluded from this result that researchers don't understand climate models enough to warrant changes in environmental policy. The processed data from this study were made open-access but, as was typical for the time, **neither the original data nor the code used for processing and analyzing the data were shared** by the original research team. Eight years after the article was published, other scientists noticed that the original authors didn't account for several important effects. This oversight introduced errors into the dataset and falsely produced artificial cooling to the temperature measurements. It took another five years and additional funding to reproduce the code and conduct a new analysis. **Thirteen years after the original paper, it was confirmed that the upper troposphere was warming and agreed with climate model predictions.**\n",
    "\n",
    "*Note: Learn about the layers of Earth's atmosphere [here](https://www.sciencefacts.net/layers-of-atmosphere.html).*\n",
    "\n",
    "**The inability for the scientific community to access an article’s original data and code slows the pace of discovery**, thirteen years in this case, and forces other research teams to repeat the work (code) instead of moving on to new projects. This isn't the pace that we want to advance science, with one step forward and two steps back to iterate and resolve problems.\n",
    "\n",
    "The intentions of the original research group were not to conceal or prevent access to their data and methods; **the community norms at that time simply did not include the sharing of data and software openly**. This is, in part, because it allows researchers to keep a competitive advantage when seeking funding opportunities. In this case, the research group simply followed this common practice. This culture of closed science needs to be changed because the **practice of withholding code (or data or other research artifacts) can stifle scientific progress**. In the climate change example, a flawed study could have swiftly been corrected by open peer feedback but it instead undermined the credibility of climate scientists. The cost to progress on climate change research and the prevented benefit to society was enormous. It is imperative to shift the entire science ecosystem, policies, and rewards toward the prioritization of openness if the full and immediate benefits of research are to be realized.\n",
    "\n",
    "#### Limitations of Scientific Publishing\n",
    "\n",
    "Historically, scientific publishers have **charged subscription fees to access journals** and, often, article processing charges (APCs) to cover the costs of preparing a manuscript for press (even when the peer reviewers were volunteering their time). These practices limit both who could read papers and who could publish results.\n",
    "\n",
    "Open access publishing has significantly increased the number of articles that are available as electronic copies online. A growing number of governments and funding agencies are starting to **mandate that research funded by taxpayers must be accessible to the public** after publication. However, the current hybrid system still does a poor job of allocating costs fairly across the research publication process (more on this in Day 5).\n",
    "\n",
    "The issue of who has access to published papers also motivates open science. [For example](https://www.unesco.org/en/articles/can-science-be-more-equitable-so-everyone-enjoys-benefits-open-science-answer), even though more climate research is made available as open access than that from other scientific fields, the **majority of climate research articles, including many important ones, remain behind paywalls**. Climate misinformation is freely available to anyone online but scientific climate results are mostly hidden from the public behind paywalls. This practice does not increase trust in science.\n",
    "\n",
    "<img src=\"https://github.com/neuromatch/nasa-open-science/blob/main/tutorials/W1D1_TheEthosOfOpenScience/static/image369.png?raw=true\" alt = \"Chart depicting percentage of open access publications\"/>"
   ]
  },
  {
   "cell_type": "markdown",
   "metadata": {
    "execution": {}
   },
   "source": [
    "### What is Open Science?\n",
    "\n",
    "What is open science exactly? To illustrate, first, we’ll present a definition of open science that was developed by the U.S. [federal government](https://open.science.gov/).\n",
    "\n",
    "> \"Open Science is the principle and practice of making research products and processes available to all, while respecting diverse cultures, maintaining security and privacy, and fostering collaborations, reproducibility, and equity.\"\n",
    "\n",
    "**The White House Ofﬁce of Science and Technology Policy Memo, 2022 (adapted)**\n",
    "\n",
    "Let’s break down the definition a bit more:\n",
    "\n",
    "- **Research products and processes should be available to all**, not just a small subset of experts, particularly if funded with public funds.\n",
    "- **Research products and processes should be 'respecting diverse cultures'** – fostering an open dialogue between researchers, indigenous people, and local communities. This also means that research must respect the diversity of laws and customs in different countries and/or as they apply to different kinds of research.\n",
    "- While open science is our aim, security, and privacy remain important concerns. Therefore, select **sensitive information should be protected**.\n",
    "- Of the stated principles, **\"Fostering collaborations, reproducibility, and equity\"**, the first two are research standards, while the latter refers to the inclusion of people who might otherwise get left out.\n",
    "\n",
    "Open science is a culture intended to promote science and its social impact."
   ]
  },
  {
   "cell_type": "markdown",
   "metadata": {
    "execution": {}
   },
   "source": [
    "### How Do You Do Open Science?\n",
    "\n",
    "The Ethos of Open Science is a broad term that encompasses the moral and ethical attitudes held by individuals and institutions about practicing ‘open’ science. There is an ethical element to **sharing both new knowledge and the processes used to obtain said knowledge**. It is important to note that there is no one be-all way of practicing or conducting open science.\n",
    "\n",
    "Diverse practices, assumptions, and goals are just part of the complexity of open science. There are also **divergent moral principles** that guide open science communities. Such principles are captured in **\"codes of conduct\"**. A code of conduct is a community governance mechanism that **outlines the principles and practices expected of a given research community’s members**, as well as the process for investigating and reprimanding those in violation of the code.\n",
    "\n",
    "In a sense, a **code of conduct constitutes the moral backbone of a research community**. However, as with the numerous schools of thought, there are similarly many codes of conduct. In other words, there is no one set of universal principles that all open science\n",
    "practitioners abide by. For example, consider how [OLS](https://openlifesci.org/code-of-conduct), [INOSC](https://osf.io/6gsye), [allea](https://allea.org/portfolio-item/the-european-code-of-conduct-for-research-integrity-2/), [AGU](https://www.agu.org/Plan-for-a-Meeting/AGUMeetings/Meetings-Resources/Meetings-code-of-conduct) and [Ethical Source](https://ethicalsource.dev/) all have different codes of conducts and guiding principles.\n",
    "\n",
    "This great diversity responds to the growing proliferation of open science initiatives and the great use we can make of open science approaches to knowledge."
   ]
  },
  {
   "cell_type": "markdown",
   "metadata": {
    "execution": {}
   },
   "source": [
    "### Fostering Collaboration, Reproducibility, and Equity\n",
    "\n",
    "The IDEA of Open Science: Inclusive, Diverse, Equitable, and Accessible.\n",
    "\n",
    "<img src=\"https://github.com/neuromatch/nasa-open-science/blob/main/tutorials/W1D1_TheEthosOfOpenScience/static/image256.png?raw=true\" width = 200 alt = \"Open source gives credit\"/>\n",
    "\n",
    "Openly using, making, and sharing research analyses, software, or datasets gives everyone credit for their work.\n",
    "\n",
    "Sharing is grounded in the belief that access to information and the ability to collaborate is essential for advancing scientific understanding and solving complex problems.\n",
    "\n",
    "Open sharing enables greater transparency in the scientific process and facilitates reproducibility; it enables collaboration and inclusion of more diverse perspectives and expertise; and it makes scientific knowledge more accessible to the public.\n",
    "\n",
    "Not only does **open sharing help society**, but it also can benefit each of us as individual researchers. It can lead to **greater visibility, impact, and credit of your results, data, and software**; it can provide **access to new collaborations and ideas**, and it can fulfill ethical and social responsibilities."
   ]
  },
  {
   "cell_type": "markdown",
   "metadata": {
    "execution": {}
   },
   "source": [
    "### <span style = \"color: orange\">Case Study:</span> Radar Data and Climate Change\n",
    "\n",
    "Have you ever seen weather forecast images for your location? That data comes from NEXRAD radar stations, many of which have been operating for over 30 years. The data has always been made publicly available, but can be difficult to use. It was mostly used for rain information, so stations didn’t see a need to make it readily accessible after 24 hours. Users who wanted the historical data from NEXRAD had to work through the following arduous steps:\n",
    "\n",
    "- Go to a website.\n",
    "- Make a request (but not one too large).\n",
    "- Wait for a robot to read the data off tape storage and copy it online.\n",
    "- Receive an email with instructions on where to download a user's data.\n",
    "- Download the data.\n",
    "\n",
    "The massive size of the dataset, more than 250TB, made it essentially impossible to do large-scale analysis. Nobody had the time to make these requests and download the data bit by bit.\n",
    "           \n",
    "**However, in 2015, all NEXRAD data were moved to and made freely available in the cloud. Usage of the dataset increased almost immediately!**\n",
    "\n",
    "Researchers started using the NEXRAD data for other types of science. For example, they used <a href=\"https://aws.amazon.com/blogs/publicsector/the-birds-in-the-cloud-how-the-university-of-oklahoma-uses-nexrad-data-to-study-birds/\">NEXRAD radar readings of birds to monitor flight patterns.</a> In particular, purple martins! Purple martins form huge roosts of up to 50,000 birds that can be tracked using radar. The purple martins perform stunning aerial performances that can now be tracked with the same technology previously reserved for rain measurements.\n",
    "            \n",
    "In another example of new NEXRAD uses, a NASA-led study linked variability in <a href=\"https://climate.nasa.gov/news/3201/climate-patterns-thousands-of-miles-away-affect-us-bird-migration/?s2=P1382021636_1683417608248277265\"> bird migration to large-scale climate patterns that originate thousands of miles away</a>. The better land managers understand current migration patterns and foresee behavioral changes in these birds due to climate change, the better they can direct their conservation and habitat restoration efforts. The newly- accessible radar data provides valuable insight needed to achieve their goals. This study was funded by NASA, uses NOAA NEXRAD data, and made fully available for the first time by the AWS Public data program."
   ]
  },
  {
   "cell_type": "markdown",
   "metadata": {
    "execution": {}
   },
   "source": [
    "### Who Does Open Science?\n",
    "\n",
    "As briefly discussed in previous lessons, open science doesn’t only involve researchers; many other stakeholders are affected by the outcomes of open science. Stakeholders include any individuals who can affect or be affected by open science projects.\n",
    "\n",
    "<img src=\"https://github.com/neuromatch/nasa-open-science/blob/main/tutorials/W1D1_TheEthosOfOpenScience/static/image217.png?raw=true\" width = 600 alt = \"Open science stakeholders\"/>\n",
    "\n",
    "Scientific research should benefit humanity. Although open science has many stakeholders, the advantageous interaction between science and society takes place among three core groups: **scientific researchers**, **policymakers**, and **the public**. Researchers do science and share their results with policymakers and the general public to inform their decisions and improve their lives. The public helps to fund research through taxes and can provide input to future areas of study. Policymakers help to implement measures that are informed by scientific results to improve the health, environment, and livability of society.\n",
    "\n",
    "These three stakeholder groups remain central to the world of open science. However, the inclusive nature of open science demands participation from the broader public. Growth in public participation in science can occur by removing barriers to those historically excluded and by expanding the community of people who support scientific research itself.\n",
    "\n",
    "Here, we list some core groups who we envision as taking part in and/or benefitting from open science while being fully aware that this list is not exhaustive and the categories we choose here have very blurred boundaries.\n",
    "\n",
    "#### Researchers\n",
    "\n",
    "Researchers are often thought of as the ones who do open science to benefit others. However, researchers themselves can also greatly benefit from open science. Their work can achieve higher visibility among colleagues and the public, they receive credit for a full range of activities related to their science (including time spent sharing data and code, for instance), and they have more access to datasets.\n",
    "\n",
    "A team of supporters and collaborators enables this research to take place. Open science aims to include these supporting members of the scientific process and ensure they receive credit for their contribution to improving science.\n",
    "\n",
    "#### Policymakers\n",
    "\n",
    "Policymakers represent another key community in the science environment. Policymakers can reference scientific findings to inform their decisions for the betterment of society. Those who help in the understanding and dissemination of these policies (including educators and science journalists) are crucial to this process. Policymakers can also play important roles in ensuring and facilitating open science by setting data management processes, encouraging open access legislation, and developing ethical guidelines for experiments. Policymakers can benefit from open science by gaining better access to scientific output via the open sharing of research results.\n",
    "\n",
    "#### General public\n",
    "\n",
    "The public plays a crucial role in science today as consumers of scientific results who make decisions based on, and adhere to policies shaped by, scientific results. Open science can make scientific results, data, and workflows more accessible to the public by strengthening routes of access to trustworthy sources of information, which in turn increases trust in science. The public can also take part in open science through community science projects, for example as volunteers to collect or manage data. As a result, participants boost their understanding of science and feel empowered through opportunities to exert influence.\n",
    "\n",
    "Open science can strengthen the connection between all of these groups. Communication between researchers and both the public and policymakers stands to drastically improve with more transparent and accessible scientific knowledge."
   ]
  },
  {
   "cell_type": "markdown",
   "metadata": {
    "execution": {}
   },
   "source": [
    "### <span style = \"color: green\">Activity 1:</span> Think About the What and How of Open Science\n",
    "\n",
    "*Estimated time for activity: 10 minutes. It is a group activity.*\n",
    "\n",
    "In this activity, reflect on your answers to the questions and discuss them in a group.\n",
    "\n",
    "- What does the act of open science look like? Does a scientist use or create something specific that would characterize their research as open? What comes to your mind?\n",
    "- Describe how you currently share your materials (data, code, results)?\n",
    "- How might you share materials in the future more openly?\n",
    "- What stands in the way?"
   ]
  },
  {
   "cell_type": "markdown",
   "metadata": {
    "execution": {}
   },
   "source": [
    "### Key Takeaways\n",
    "\n",
    "In this section, you learned:\n",
    "\n",
    "- The motivation for open science as well as its goals and outcomes.\n",
    "- Why we should be doing open science now and how technology has made it more achievable.\n",
    "- The definition of open science.\n",
    "- Different groups that do open science."
   ]
  },
  {
   "cell_type": "markdown",
   "metadata": {
    "execution": {}
   },
   "source": [
    "---\n",
    "\n",
    "## Section 2: Why is Open Science Important?\n",
    "\n",
    "In this section, you will learn how adopting open science benefits you as a researcher and society. You will also learn about some of the challenges and hurdles with using open science principles and how to navigate them. \n",
    "\n",
    "> \"We need more WE science rather than ME science.\"\n",
    "\n",
    "**Harlan Krumholz, Yale School of Medicine at 2022 CZI Meeting**\n",
    "\n",
    "\n",
    "<img src=\"https://github.com/neuromatch/nasa-open-science/blob/main/tutorials/W1D1_TheEthosOfOpenScience/static/image377.jpg?raw=true\" width = 500 alt = \"Benefits of open science\"/>\n",
    "\n",
    "*Figure: There are many benefits of open science. [CC-BY Danny Kingsley & Sarah Brown](https://blogs.uef.fi/ueflibrary-bors/benefits-and-challenges-of-open-science/).*\n",
    "\n",
    "### Benefits to You\n",
    "\n",
    "#### You are Your Best Future Collaborator!\n",
    "\n",
    "Doing open science not only lets other people understand and reproduce your results but lets you do so as well! Implementing open science principles such as **good documentation** and **version control** helps you, potential collaborators, and anyone else to understand your results.\n",
    "\n",
    "**If your work is shared publicly, you will never lose access, even if you move institutes or change jobs.** Many researchers move around institutions and organizations. By having your data, software, and results in repositories, you will always have access to them.\n",
    "\n",
    "Implementing best practices for open science in your work not only helps you document but also **strengthens your funding proposals**. Funding agencies have begun to realize that openly sharing research products can increase their citations received and uptake, resulting in a **better return on investment**.\n",
    "\n",
    "**Well-documented research products** also demonstrate the **quality of your work**, which helps with **public communication** efforts and can also attract better collaborators. **Reliability** and a strong work ethic motivate others to want to work with you.\n",
    "\n",
    "#### Give and Get Credit When Using Results of Others\n",
    "\n",
    "<img src=\"https://github.com/neuromatch/nasa-open-science/blob/main/tutorials/W1D1_TheEthosOfOpenScience/static/image260.jpg?raw=true\" width = 600 alt = \"The Turing Way project illustration by Scriberia.\"/>\n",
    "\n",
    "*The Turing Way project illustration by Scriberia. Used under a CC-BY 4.0 license. DOI: 10.5281/zenodo.3332807.*\n",
    "\n",
    "In addition to documenting your own research, the **practice of giving credit to everyone who has contributed** will strengthen your scientific community's reputation and actualize the shared values of open science. As people **gain confidence in the benefits of cooperative research**, they will also start giving credit to more contributions that might previously have gone unacknowledged. Different work performed as part of a paper can be given in an author contribution statement, often required by journals, like the example below, taken from [this paper](https://journals.physiology.org/doi/full/10.1152/jn.00636.2019). \n",
    "\n",
    "<img src=\"https://github.com/neuromatch/nasa-open-science/blob/main/tutorials/W1D1_TheEthosOfOpenScience/static/OS101_CJ_Author_Contributions.png?raw=true\" width = 400 alt = \"Example of acknowledgement section\"/>\n",
    "\n",
    "Additionally, it is important to also include an **acknowledgment statement** to give credit to those who have shared resources, equipment, or knowledge, without which the final product or paper may not have been possible.\n",
    "\n",
    "#### More Visibility and Impact\n",
    "\n",
    "In addition to improved scientific accuracy, adhering to open science practices potentially offers **personal career benefits** to researchers. \n",
    "\n",
    "- Openly published research has significantly more visibility and impact potential with large audiences across the internet, which can lead to more citations, like-minded collaborators, and career/funding opportunities, according to a 2016 [study](https://pubmed.ncbi.nlm.nih.gov/27387362/).\n",
    "\n",
    "- Publishing open access increases citation count by 18%, according to a 2018 [study](https://peerj.com/articles/4375/).\n",
    "\n",
    "- Articles that make their data openly accessible via a direct link to a repository see ~25% higher citation impact, according to a 2020 [study](https://www.ncbi.nlm.nih.gov/pmc/articles/PMC7176083/).\n",
    "\n",
    "Publishing as open access may have prohibitive costs for some researchers, depending on the venue. There are often other options that allow authors to share their work freely and openly. In Module 5 on Open Results, we discuss some of these other options, including preprints and diamond open access.\n",
    "\n",
    "There are many different research outputs that can be openly shared and made citable:\n",
    "\n",
    "- Code\n",
    "- Data\n",
    "- Research talk slides\n",
    "- Lectures\n",
    "- Blog posts\n",
    "- And more!\n",
    "\n",
    "All of these are tangible, scientific outputs! Much of our time as researchers is spent writing code, collecting data, putting together lectures, and not \\*just\\* publications. Publicly sharing materials makes receiving a citation more likely.\n",
    "\n",
    "### More Collaborations\n",
    "\n",
    "Open science practices can also enable **stronger collaborations, both within and between disciplines**, as evidenced by a 2016 [<u>study</u>](https://liberquarterly.eu/article/view/10819). The ease of access to open data brings new agents to the landscape that allow for broader and more diverse participation. Through open science practices, such as pre-registration, where researchers document their research plan at the start of a study, one allows for a stronger research design because feedback from various collaborators and stakeholders can be solicited before data collection begins. Similarly, **preprints allow for swifter feedback** on conclusions drawn from data once it is collected."
   ]
  },
  {
   "cell_type": "markdown",
   "metadata": {
    "execution": {}
   },
   "source": [
    "### Benefits to Science\n",
    "\n",
    "#### Transparent Science is Reproducible Science\n",
    "\n",
    "When computers are used to produce scientific research, the **code is considered a \"method\"**. Much like a lab research setting, a set of instructions for working with cells or agar plates can be considered a method. Peer-reviewed methods are an essential step in the scientific process. When these steps are not shared, no one else can reproduce the work or build upon it for future scientific endeavors. **Open methods allow people to judge whether or not the methods are trustworthy**. In Section 1, the story of the Global Cooling Error presented a poignant example of science that was not reproducible because of a lack of data transparency.\n",
    "\n",
    "#### Open Science Can Improve Accuracy\n",
    "\n",
    "A [study](https://www.nature.com/articles/s41562-021-01193-7) from 2022 found that researchers who practice transparency and promote verifiability benefit from readers and stakeholders who judge whether results presented are accurate and, according to a related [study](https://www.cmu.edu/dietrich/sds/docs/loewenstein/MeasPrevalQuestTruthTelling.pdf), that the results are not produced by questionable research practices that lead to misleading or unreliable results.\n",
    "\n",
    "Open science also allows others to scrutinize the analytic decisions of researchers, such as whether the analysis was planned before or after observing the data, according to a 2018 [study](https://www.pnas.org/doi/full/10.1073/pnas.1708274114).\n",
    "\n",
    "This allows others to check if they can arrive at the same conclusion as the original research team and facilitates stronger public trust and support, according to a 2021 UNESCO [report](https://unesdoc.unesco.org/ark:/48223/pf0000379949).\n",
    "\n",
    "#### <span style = \"color: orange\">Case Study:</span> Allen Brain Observatory. When Open Science Leads to More Discoveries\n",
    "\n",
    "<img src=\"https://github.com/neuromatch/nasa-open-science/blob/main/tutorials/W1D1_TheEthosOfOpenScience/static/AllenInstitute.png?raw=true\" alt = \"Allen Institute logo\"/>\n",
    "\n",
    "Since its founding, the **Allen Institute** has made open data one of its core principles. Specifically, it has become known for **generating and sharing survey datasets** within the field of neuroscience, taking inspiration from domains such as astronomy, where such surveys are common. These survey datasets are (1) collected in a highly standardized manner with stringent quality controls, (2) create a volume of data that is much larger than typical individual studies within their particular disciplines, and (3) are collected without a specific hypothesis to facilitate a diverse range of use cases.\n",
    "\n",
    "The **Allen Brain Observatory** consists of a set of standardized instruments and protocols designed to carry out surveys of cellular-scale neurophysiology in awake brains. Its initial focus was on neuronal activity in the mouse visual cortex. \n",
    "\n",
    "One of the use cases of Allen Brain Observatorty dataset in research community is **generating novel discoveries about brain function**:\n",
    "\n",
    "- [Sweeney and Clopath, 2020](https://elifesciences.org/articles/56053) used Allen Brain Observatory two-photon imaging data to explore the stability of neural responses over time. The authors found that, indeed, population coupling is correlated with the change in orientation and direction tuning of neurons over the course of a single experiment, an unexpected result linking population activity with individual neural responses.\n",
    "- [Bakhtiari et al., 2021](https://www.biorxiv.org/content/10.1101/2021.06.18.448989v3) examined whether a deep artificial neural network (ANN) could model both the ventral and dorsal pathways of the visual system in a single network with a single cost function. Comparing the representations of these networks with the neural responses in the two-photon imaging dataset, they found that the single pathway produced ventral-like representations but failed to capture the representational similarity of the dorsal areas.\n",
    "- [Fritsche et al., 2022](https://www.jneurosci.org/content/42/10/1999) analyzed the time course of stimulus-specific adaptation in 2365 neurons in the Neuropixels dataset and discovered that a single presentation of a drifting or static grating in a specific orientation leads to a reduction in the response to the same visual stimulus up to eight trials (22 s) in the future. This stimulus-specific, long-term adaptation persists despite intervening stimuli, and is seen in all six visual cortical areas, but not in visual thalamic areas (LGN and LP), which returned to baseline after one or two trials. This is a remarkable example of a discovery that was not envisioned when designing the survey, but for which the stimulus set was well suited.\n",
    "\n",
    "*Information on the case study is taken from 2023 [article](https://elifesciences.org/articles/85550).*\n",
    "\n",
    "\n",
    "#### Quality and Diversity of Scholarly Communications\n",
    "\n",
    "Furthermore, open science improves the state of scientific literature. Scientific journals have traditionally faced the severe issue of publication bias, where **journal articles overwhelmingly feature novel and positive results**, according to a 2018 [study](https://pubmed.ncbi.nlm.nih.gov/30523135/). This results in a state where scientific results in certain disciplines published may have a number of exaggerated effects, or even be \"false positives\" (wrongly claiming that an effect exists), making it difficult to evaluate the trustworthiness of published results, according to a 2011 and 2016 study. Open science practices, such as **registered reports, mitigate publication bias and improve the trustworthiness of the scientific literature**. Registered reports are journal publication formats that peer-review and accept articles before data collection is undertaken, eliminating the pressure to distort results, according to a 2022 [study](https://www.nature.com/articles/s41562-021-01193-7). Other open science practices, such as pre-registration, also allows a partial look into projects that for various reasons (such as lack of funding, logistical issues or shifts in organizational priorities) have not been completed or disseminated, according to a 2023 [study](https://pubmed.ncbi.nlm.nih.gov/34396837/), giving these projects a publicly available output that can help inform about the current state research."
   ]
  },
  {
   "cell_type": "markdown",
   "metadata": {
    "execution": {}
   },
   "source": [
    "### Benefits to Society\n",
    "\n",
    "Collaboration, innovation, education, technology advancement, and science-based public policy are all improved by the open availability of research products. **Sharing all research products** (e.g., data, code, results) makes the scientific process more transparent, which may help **increase public trust in science**. Also, open science encourages IDEA (Inclusion, Diversity, Equity, Accessibility) and **increases the involvement of citizen-scientists and non-experts** in the research process. The inclusion of diverse perspectives from an open community invites unique perspectives that contribute to a more robust and often more accurate scientific outcome.\n",
    "\n",
    "Scientists study issues that affect every aspect of life. Yet, public interest in science remains low due to a lack of trust, understanding, and sociocultural factors. How can scientists expect the public to trust science about complex and often contentious issues, whether it is vaccine development or landing on the moon if they don’t allow the public to see the process and results? **Building trust in science is essential to a well-informed society.** Open science provides a pathway to do this.\n",
    "\n",
    "The public who funds government research through taxes should be entitled to its results and data, as long as safety and security are not an issue. Science should be more open to ensure its insights benefit the public who enables it.\n",
    "\n",
    "Open science introduces more scrutiny into research that helps ensure accuracy and encourages efficiency through open discourse. This approach accelerates the pace of discovery and, subsequently, the dissemination of results to the public and policymakers.\n",
    "\n",
    "#### <span style = \"color: orange\">Case Study:</span> Open Science Can Accelerate the Pace of Science\n",
    "\n",
    "Open science practices accelerate the pace of scientific discovery by involving ideas and labor from the broader community. The rapid response to the \n",
    "[Covid-19 Pandemic showed Open Science in action to accelerate discovery.](https://www.nejm.org/doi/full/10.1056/NEJMp2034518)\n",
    "\n",
    "Researchers uploaded the initial genome sequence of SARS-CoV-2 into an open-access database in January 2020, creating a data-sharing precedent and metadata that would later enable insights about new COVID-19 variants. The NIH developed a dedicated platform for sharing research tools for COVID-19 and encouraged investigators to expedite reporting to ClinicalTrials.gov ahead of requirements. Open-science publishing agreements that support evidence dissemination have complemented these practices and policies. One day after the World Health Organization declared COVID-19 a public health emergency, **more than 50 academic publishers issued a joint statement committing to open-access policies for COVID-19 research**. Support for preprint servers has promoted awareness of research successes and failures, and **journals have helped accelerate the distribution of actionable information**, including by means of dedicated COVID-19 web pages, endorsement of preprints, and an emphasis on sharing data with public health authorities.\n",
    "\n",
    "#### Open Science is Efﬁcient Science\n",
    "\n",
    "Open science reciprocates the benefits it provides to researchers in the communities that scientists hope to serve. Data from one observation or science experiment can have unanticipated uses. In Section 1, we discussed an example where the use of radar data for tracking the effect of climate change was used to track bird migration.\n",
    "\n",
    "Through open science practices, research waste can be avoided, such as unintentional and costly repetition of previous studies, according to a 2020 European Commission [report](https://op.europa.eu/en/publication-detail/-/publication/6bc538ad-344f-11eb-b27b-01aa75ed71a1). In the human sciences, this also reduces participant fatigue in the long term. By maximizing what is learned from publicly available data, one does not need to test repeatedly, especially on already vulnerable communities. By “giving away” science, individuals, communities, and organizations can more easily adopt research results to inform interventions for their own needs without the knowledge being gatekept by the original researchers and organizations involved. In this way, open science can strengthen the social and economic impacts of scientific results.\n",
    "\n",
    "#### Open Science Attracts a Diverse Set of Participants\n",
    "\n",
    "The open sharing of scientific products and processes makes science accessible to everyone. This allows full participation from everyone, and also maximizes the number of people who can benefit from the work.\n",
    "\n",
    "The best ways to include a diverse group of open science practitioners and stakeholders are to remove existing barriers and design for inclusion. Beyond this, it is important to learn how to communicate effectively with diverse collaborators and people at different skill levels, career levels, backgrounds, and areas of expertise. The ability to build diverse teams is a skill that everyone can learn. For example, NASA has its own [commitment](https://www.nasa.gov/odeo/diversity-and-inclusion/) to diversity and inclusion.\n",
    "\n",
    "<img src=\"https://github.com/neuromatch/nasa-open-science/blob/main/tutorials/W1D1_TheEthosOfOpenScience/static/image265.jpg?raw=true\" width = 300 alt = \"Diversity of participants in scientific collaboration.\"/>\n",
    "\n",
    "*Image credit: Andy Brunning/Compound Interest. CC BY-NC-ND 4.0 DEED*"
   ]
  },
  {
   "cell_type": "markdown",
   "metadata": {
    "execution": {}
   },
   "source": [
    "### Key Takeaways\n",
    "\n",
    "The following are the key takeaways from this section:\n",
    "\n",
    "- Citing the work of other scientists whose work you build upon or reuse supports the community-minded open science practice of using, making, and sharing.\n",
    "- Doing science openly can boost the visibility of research and lead to more meaningful collaborations.\n",
    "- Science quality and efficiency are improved when open science best practices are followed.\n",
    "- Open science helps society by allowing more people to participate in science, which increases the accuracy and impact of results."
   ]
  },
  {
   "cell_type": "markdown",
   "metadata": {
    "execution": {}
   },
   "source": [
    "---\n",
    "## Section 3: How to do Open Science\n",
    "\n",
    "The ability to discern when and how to share information in an appropriate manner is an essential skill of open science. Practitioners of open science must balance their pursuit to maximize openness while respecting diverse cultures, maintaining security and privacy, and following institutional policies and practices.\n",
    "\n",
    "This section introduces important security and privacy considerations for scientists when sharing information. Next, the section discusses how sharing information may impact different communities. Following this, the section explains the topic of intellectual property, how it can be protected, and the different types of licenses available to facilitate sharing while ensuring the owner of the information receives credit for their work. Lastly, this covers the effect of rules and regulations set by an organization, grant, or publisher on a scientist's options to make their research open access."
   ]
  },
  {
   "cell_type": "markdown",
   "metadata": {
    "execution": {}
   },
   "source": [
    "### Maintaining Security and Protecting Privacy\n",
    "\n",
    "Previous sections have showcased a broad range of open science success stories, but we recognize that there are **still plenty of valid concerns and unexplored challenges to implementing open science**. Open science demands the valuable but complex practices of **respecting diverse cultures, maintaining security, and protecting privacy**. This lesson presents a strategic approach to making decisions about doing open science in common scenarios. For those scenarios that we cannot foresee, this lesson offers mitigation strategies to help overcome unique challenges with mindful preparation and community support.\n",
    "\n",
    "#### A Country’s Military Secrets or Violates National Interests\n",
    "\n",
    "When the release of data or research can lead to national security concerns, there are added restrictions around sharing this information. In the U.S., sharing of this type of information often falls under **International Traffic in Arms Regulations (ITAR)** and **Export Administration Regulations (EAR)** export control regulations. Sharing ITAR/EAR-regulated data, equipment, resources, or research without clearance to do so can put the country's national security at risk and may bring about both severe criminal and administrative penalties.\n",
    "\n",
    "#### Human Patient Privacy\n",
    "\n",
    "NASA has collected human spaceflight biomedical data since the start of Apollo but the only human data in the Life Sciences Data Archive are from astronauts who signed releases for their data to be public.\n",
    "\n",
    "In the U.S., **health data** is protected under the Health Insurance Portability and Accountability Act of 1996 (US-HIPAA) and it **is not allowed to be shared without expressed written consent by the patient**. As such, health information about astronauts is something NASA protects carefully, working to balance the publicity of the job with regulations and best practices for medical privacy while also enabling peer-reviewed biomedical research.\n",
    "\n",
    "See this example and more at NASA's [Open Science Data Repository](https://osdr.nasa.gov/bio/repo/data/studies/OSD-530/).\n",
    "\n",
    "#### Respecting Diverse Cultures\n",
    "\n",
    "Open Science advocates for making research widely available, while also recognizing that there are many reasons why **some information should not be released**, and that these decisions need to involve the people who provided input and/or **could be harmed by the consequences of release**.\n",
    "\n",
    "#### Indigenous, Cultural, and Conservation Concerns\n",
    "\n",
    "When considering the impacts of data sharing, it is important to **recognize if those affected are equally represented in the discussion**. For example, **historically excluded communities, the environment, and wildlife** are too often not considered when deciding to make research open access.\n",
    "\n",
    "[For example](https://www.nature.com/articles/s41576-019-0161-z), while genomic research often relies on individual-based consent, it is often used to make decisions that impact indigenous communities without their consent.\n",
    "\n",
    "Another [example](https://www.theguardian.com/us-news/2023/feb/23/lidar-technology-archeology-radical-thinking) of how data can inadvertently impact vulnerable communities is the use of LiDAR by archaeologists to study remote areas. This type of data has the potential to reveal unprotected vulnerable indigenous sites in need of protection.\n",
    "\n",
    "#### CARE Principles\n",
    "\n",
    "The [CARE Principles of Indigenous Data Sovereignty](https://www.gida-global.org/care) are people- and purpose-oriented, and were originally set up to use data in a way that advances data governance and self-determination among Indigenous Peoples. CARE principles can be applied by **involving communities or local stakeholders** and should be covered at the start of a research project.\n",
    "\n",
    "#### Environmental Justice\n",
    "\n",
    "When sharing your results, are you sharing them with the groups that are most impacted in ways that are accessible to them? When studying the impact or effect on a specific community, it is important to include that community in the design of your work and **ensure that the results of the work are accessible - both freely available and understandable – to the communities involved**.\n",
    "\n",
    "Environmental justice is the fair treatment and meaningful involvement of all people, regardless of race, color, national origin, or income, with respect to the development, implementation, and enforcement of environmental laws, regulations, and policies. Read more about how [NASA Earth data is being made more accessible to those communities most affected](https://www.earthdata.nasa.gov/learn/backgrounders/environmental-justice). \n",
    "\n",
    "#### Protecting Endangered Species\n",
    "\n",
    "Humans aren’t the only group that can be negatively impacted by data sharing. Rare and endangered species can also be impacted. For [example](https://www.rspb.org.uk/birds-and-wildlife/crane), the **sharing of breeding sites for declining wildlife populations can further exacerbate the population decline**. For this reason, rare animals may have their breeding sites kept secret."
   ]
  },
  {
   "cell_type": "markdown",
   "metadata": {
    "execution": {}
   },
   "source": [
    "### Intellectual Property\n",
    "\n",
    "Intellectual property is the **recognition of rights associated with the content created by human intellect**. There are several different types of intellectual property and how they are recognized varies by country, type, and timescales.\n",
    "\n",
    "It's important to understand **who has the rights to the content you create**. It can depend on a number of different factors. Work that you create may belong to your **employer**, may be in the **public domain**, may depend on the **license of underlying work**, may belong to the **publisher of your work**, or may be your **own intellectual property**. Ownership may affect how your work can be shared.\n",
    "\n",
    "#### Most Common Types of Intellectual Property Protection\n",
    "\n",
    "> **Copyright**\n",
    "\n",
    "**A copyright protects original works of authorship**. This could be artistic or literary works and also applies to software. In general, and if applicable, **copyright is automatically applied at the moment of creation**, with no further registration needed.\n",
    "\n",
    "Most open licenses depend on copyright. The person(s) who owns the copyright has the right to apply for a license.\n",
    "\n",
    "Example: An image in a scientific journal or something from the web. Generally speaking, using copyrighted images for teaching and education is considered fair use. However, if that includes posting images to a website, that could be considered a publication and, therefore, copyright infringement.\n",
    "\n",
    "> **Trademark**\n",
    "\n",
    "A trademark can be applied to any content, including words, phrases, symbols, designs, or a combination of these things that identifies your product. Trademarks, in general, are not relevant for scientific purposes.\n",
    "\n",
    "> **Patents**\n",
    "\n",
    "**A patent is an exclusive right granted for an invention**, which is a product or a process that provides, in general, a new way of doing something, or offers a new technical solution to a problem. **Patents are another way to make your work open while protecting your intellectual property.**\n",
    "\n",
    "Many organizations have groups that will support the development and commercialization of inventions. [NASA's Tech Transfer](https://technology.nasa.gov/) office is an example of one of these, making much of NASA's inventions available for licensing as part of the [NASA Patent Portfolio](https://technology.nasa.gov/patents).\n",
    "\n",
    "> **Public Domain**\n",
    "\n",
    "**In some cases, intellectual property is not protected at all.** Public domain is when a creative work has no intellectual property rights associated with it. Some types of intellectual property expire after a certain time scale. Some types of work, such as those created by civil servants in the United States, are not covered by copyright and can appear immediately in the public domain. For others, the creator donates the work to the public domain, or intellectual property rights are not applicable.\n",
    "\n",
    "#### Why Should You Care About Intellectual Property Policies?\n",
    "\n",
    "Why should I, as a scientist, care about this? Well, consider what happens to the ownership of your research if you move institutions:\n",
    "\n",
    "- Can you take your paper drafts, presentations, and copies of publications with you?\n",
    "- Can you take your data?\n",
    "- Can you take your software?\n",
    "\n",
    "Worrying about intellectual property and copyright can seem like an unnecessary detail early on. However, anticipating changes to your situation by ensuring permanent ownership of your work in the planning phase of your research can help you **avoid legal and institutional issues later** on.\n",
    "\n",
    "If you submit your manuscript to a publisher that requires that they own the copyright of the work, will you be able to access that paper when you change jobs and no longer have a subscription to that work? Are you able to meet the mandates of your funding agency to openly share your work? Can you reuse the figures that you made in derivative works? Will others be able to access your work? While these may seem like questions you shouldn't have to worry about, they can become very difficult to deal with after the fact.\n",
    "\n",
    "#### Licensing\n",
    "\n",
    "**Licensing is a way to help to allow others to reuse your work legally**. It is a way to specify under what conditions, if any, others can use, build upon, or distribute your work. It is also a method to ensure that your work is appropriately credited. **It is generally illegal and may be a form of academic misconduct to reuse content without a license, even if the content can be found on the internet**. This law protects content creators, just as it protects your work from being used by others without clear permission. Thankfully, it’s easy to allow others to reuse your work.By applying a license to your work, you make clear what others can do with the things you're sharing and also establish the conditions under which you're providing them (such as citing you).\n",
    "\n",
    "**If you don't license your work, others can't/shouldn't re-use it – even if you want them to.** Licenses can be applied to data, code, reports, publications, and almost any other \"creative\" output. There are also several different types of licenses and also the case where no license need to apply:\n",
    "\n",
    "> **Permissive Licenses**\n",
    "\n",
    "Permissive Licenses allow users a wide range of rights, including the **ability to use, modify, and distribute the work with no restrictions or very few**. Examples of permissive licenses would be open source software licenses such as Apache 2.0 or MIT licenses or the Creative Commons licenses such as <a href=\"https://creativecommons.org/licenses/by/4.0/\">Creative Commons Attribution (CC-BY)</a>.\n",
    "\n",
    "> **Protective Licenses**\n",
    "\n",
    "Protective Licenses are a legal technique of **granting certain freedoms over copies of copyrighted works while including some limitations**. This may include copyleft licenses, commercial licenses, or other restrictions.\n",
    "\n",
    "> **Public Domain**\n",
    "\n",
    "Public Domain is not a license, but it is an indication that there are **no reuse restrictions on the work.** <a href=\"https://creativecommons.org/publicdomain/zero/1.0/\">Creative Common Zero</a> is a worldwide public domain mark that indicates that the material is free to use without any restrictions.\n",
    "\n",
    "More details about licensing for each of these types of products can be found in later days, including different types of licenses, when to apply for a license, and tools for applying for licenses. Creative Commons and the Open Source Initiative are two resources with more information on open licenses.\n",
    "\n",
    "#### <span style = \"color: orange\">Case Study:</span> Neuromatch Academy Licensing\n",
    "\n",
    "**All Academy material (tutorial code, tutorial videos, lecture power point slides, etc) is published under CC-BY license.** This means the content creators are giving others permission to reuse the content. This also means that the Academy can’t publish content that it doesn’t own or that isn’t already under a CC BY license. It’s a decision Neuromatch, Inc. took to pursue the aim of facilitating inclusive, collaborative, and global participation in the computational sciences through education by making the learning content accessible and reproducible.\n",
    "\n",
    "CC (‘Creative Commons‘) licenses are one of several public copyright licenses that enable the free distribution of content. A CC license is used when an author wants to give other people the right to share, use, and build upon a work that the author has created.\n",
    "There are lots of different CC licenses. CC BY is the most generous as it “lets others distribute, remix, adapt, and build upon your work, even commercially, as long as they credit you for the original creation. This is the most accommodating of licenses offered. Recommended for maximum dissemination and use of licensed materials.”\n",
    "\n",
    "To check the copyright license of the figures that you would like to use, you can visit the ‘Rights and permissions’ section in the header of the article from which they originated. Below there is a list of distinct options and corresponding icons:\n",
    "\n",
    "<img src=\"https://github.com/neuromatch/nasa-open-science/blob/main/tutorials/W1D1_TheEthosOfOpenScience/static/nmalicense.png?raw=true\" width = 500 alt = \"Different license options.\"/>\n",
    "\n",
    "For example, it may look like the following in the context of a particular material:\n",
    "\n",
    "<img src=\"https://github.com/neuromatch/nasa-open-science/blob/main/tutorials/W1D1_TheEthosOfOpenScience/static/nmacopyright.png?raw=true\" width = 300 alt = \"Copyright example.\"/>\n",
    "\n",
    "Academy can only use a figure or other content if it’s under a CC BY license. **Because Neuromatch, Inc. is an educational nonprofit and the primary use of images is for education and not for commercial use, it can use content under any CC BY license.** \n",
    "\n",
    "**Tip from Neuromatch team:** A rule of thumb is that any image that you yourself did not produce is likely to be subject to someone else’s copyright. Figures from most journals are not under a CC BY license. Figures from many places on the internet (except Wikipedia) are usually subject to copyright. If the content you are using is not under CC BY, the best course of action is to use a different figure with a CC BY version from bioRxiv or with a similar figure published in an open-source journal or a new figure that you create yourself."
   ]
  },
  {
   "cell_type": "markdown",
   "metadata": {
    "execution": {}
   },
   "source": [
    "### Policies and Practices around Open Science\n",
    "\n",
    "#### Preparing to Use and Make Controlled Research\n",
    "\n",
    "It is important to **plan for the release of your data and results from the very beginning** of your research project. Investigate and obtain all permits, approvals, and/or certifications needed to ensure you can share your research products.\n",
    "\n",
    "**Remember:** Reputable journals and repositories will reject submissions if compliance can’t be documented!\n",
    "\n",
    "> **Materials - sharing and commercial product agreement**\n",
    "\n",
    "- Can be permissive or restrictive.\n",
    "- Many versions are available.\n",
    "\n",
    "> **Human or animal subject institutional review boards**\n",
    "\n",
    "- Check experiment-specific requirements early.\n",
    "- Be sure to comply with all aspects of ongoing review.\n",
    "\n",
    "> **Collecting permits**\n",
    "\n",
    "- Don't assume collection is allowed just because a sampling location seems unmanaged.\n",
    "- Engage and consult with local communities to ensure their concerns are addressed.\n",
    "\n",
    "#### Sharing Controlled Research\n",
    "\n",
    "As we've previously shown, different kinds of intellectual property are released using different formal structures. It is important to understand these structures and to check with specialist communities when preparing your research plan. Methods for sharing results may follow different standards of practice or may require a special data format for distribution or submission to common repositories.\n",
    "\n",
    "> **Creative commons vs. open source vs. public domain licenses**\n",
    "\n",
    "- Can be permissive or restrictive.\n",
    "- Many versions are available.\n",
    "\n",
    "> **Repositories**\n",
    "\n",
    "- General and discipline-specific options.\n",
    "- Check submission requirements early.\n",
    "- Often have user communities willing to help.\n",
    "\n",
    "> **Guiding elements for selecting between options**\n",
    "\n",
    "- Choose 'supported' versions with active and friendly communities.\n",
    "- Take precautions to reduce security risk.\n",
    "\n",
    "What are the rules for science? Before sharing, check you have the right to do so:\n",
    "\n",
    "1. What does your supervisor or Principal Investigator say?\n",
    "2. What does your grant/contract say?\n",
    "3. What does your organization say?\n",
    "4. What does your funding agency say?\n",
    "5. If you are planning to publish, what does the publisher say?\n",
    "\n",
    "Remember, sometimes what they say may conflict, for example:\n",
    "\n",
    "- If your grant / funder says outputs should be open, usually your institute will permit you to share items even if they are normally more restrictive.\n",
    "- Different types of outputs may have different types of restrictions. (e.g. software or hardware might have one expectation, whilst data might have others).\n",
    "\n",
    "Universities and other institutions may have OSPOs (**Open Source Policy Office**) or commercialization offices. Most institutes will have **intellectual property counsel** to help answer questions. Librarians are another good resource to consult when looking for advice on sharing.\n",
    "\n",
    "#### Early is Better\n",
    "\n",
    "It is important to think about what policies may affect your research outputs as early as possible so that when you want to share information, you have either already obtained approvals or know where to go to get approvals to share. This ensures that you don’t inadvertently share (or fail to share) something that could affect your career, negatively impact others, or pose legal issues.\n",
    "\n",
    "**Remember:** You can't unshare something that is already shared! Equally, if your research requires ethical approval or consent to share, this may be harder to gain after you’ve done your study.\n",
    "\n",
    "#### Reusing Science Ethically - Give Credit!\n",
    "\n",
    "It’s always important to properly source any content you use and remember to only share properly licensed content. **Even if a license does not require attribution, providing credit helps increase reproducibility by providing the provenance of your work**. This is the norm in scientific communities.\n",
    "\n",
    "Remember when reusing science:\n",
    "\n",
    "- **Open science is a partnership**, and giving credit is critical to make it work.\n",
    "- **Consider citing all resources used**: datasets, software, infrastructure, etc.\n",
    "- Hopefully, others will reciprocate when reusing your work. (Scientific ethics dictate they should)."
   ]
  },
  {
   "cell_type": "markdown",
   "metadata": {
    "execution": {}
   },
   "source": [
    "### Key Takeaways \n",
    "\n",
    "In this section, you learned:\n",
    "\n",
    "- Situations when it may be inappropriate or harmful to share your data or research. These include maintaining security, protecting privacy, and respecting diverse communities.\n",
    "- What intellectual property is, who owns it, and how it is protected through licenses.\n",
    "- Various organizations within science (e.g. universities, publications, funding agencies, etc.) may have their own individual sharing policies that are best to consider at the beginning of a research project to avoid any potential pitfalls along the way."
   ]
  },
  {
   "cell_type": "markdown",
   "metadata": {
    "execution": {}
   },
   "source": [
    "---\n",
    "## Section 4: When Not to Be Open\n",
    "\n",
    "In this section, you will consider potential barriers to adopting open science practices. Barriers can come in the form of personal fears as a result of misaligned social challenges or institutional/infrastructure barriers. We begin with an exercise to identify your own concerns or fears about adopting open science. This leads to a discussion about common barriers and mitigation strategies."
   ]
  },
  {
   "cell_type": "markdown",
   "metadata": {
    "execution": {}
   },
   "source": [
    "### <span style = \"color: green\">Activity 2:</span> Self-Reflection on Open Science Concerns\n",
    "\n",
    "*Estimated time for activity: 10 minutes. It is a group activity.*\n",
    "\n",
    "In this activity, reflect on the given topic and discuss your thoughts in a group.\n",
    "\n",
    "Take a moment to think about what fears or concerns you have about adopting open science. These could be concerns you have experienced in your work or fears you have about being more open moving forward. There are no wrong answers here – this is a time for you to reflect on what might be keeping you back from doing open science."
   ]
  },
  {
   "cell_type": "markdown",
   "metadata": {
    "execution": {}
   },
   "source": [
    "### Some Fears Around Adopting Open Science Practices\n",
    "\n",
    "Now that you've reflected on some of your concerns or fears around open science, below we have listed a few common fears of doing open science and some potential mitigation strategies. Even if you personally don’t have this fear, it can be useful to think about the different concerns that others may have to better understand and even help others address them.\n",
    "\n",
    "> **Mistakes:** What if my work is wrong or inelegant?\n",
    "\n",
    "**It can be intimidating to share your research materials publicly** because someone might find a mistake or inefficiency. But isn't it better for science if we can quickly find and fix mistakes or improve quality? Peer review is a core pillar of the scientific method and is a mechanism for others to help find and correct mistakes and make improvements. To make this work, we will need to be more open to finding and fixing mistakes or inefficiencies. It's true that in many science communities, a mistake is considered a failure, or a certain style may be considered lackluster. However, **open science policies aim to change the perception of mistakes from that of failure to a step in the discovery process** that can be aided by open community feedback.\n",
    "\n",
    "> **Scooping:** What if someone re-uses my work and gets the credit?\n",
    "\n",
    "Yes, this can happen. **Depositing your work early and making it citable are ways to establish your work.** This serves as evidence of when you started working on it and makes it easier for others to cite you. Details of how to do this are provided in the following days. In many fields, if it is clear that someone is actively working on a problem, the decision to scoop that work may have a short term gain but long-term loss. In science, reputations are very important and being collaborative generally leads to increased career successes. Read more about scooping <a href=\"https://datascience.codata.org/articles/10.5334/dsj-2017-029\">here</a>.\n",
    "\n",
    "> **Misinterpretation of my work.**\n",
    "\n",
    "This can happen regardless of the form or openness of your work - many publications have ended up being misinterpreted. **Openness does help to provide further context of the work**. Documentation of your research plan and software management practices allow others to understand your work fully, and thus help reduce the risk that others will misinterpret your work. For example, if you share code, you can **include a description of what the code does, along with brief usage instructions and examples**. In Day 4, we will discuss proper data and code documentation that can help reduce misinterpretation.\n",
    "\n",
    "> **My work will be used, but not cited.**\n",
    "\n",
    "Science ethics dictates that you should be cited if your work is used. Part of open science is valuing all steps of the scientific workflow, and encouraging researchers to cite code, data, or other non-published articles. **Make it easy for others to cite you by adding a digital object identifier (DOI - discussed later in the course) to your research product.** Remember to cite others' materials, so you're not adding to the problem.\n",
    "\n",
    "> **Data is too sensitive to share.**\n",
    "\n",
    "Following appropriate anonymization or using controlled access can address this concern.\n",
    "\n",
    "> **I don't want to maintain or update my work.**\n",
    "\n",
    "Sharing what you did allows others to reproduce, replicate, and build upon your work. That doesn’t mean you have to maintain it for the rest of your life, or even at all. If you don’t plan to maintain your code, it is still recommended that you share the code publicly and archive it. By adding appropriate licensing, documentation, and contributing guidelines, you can make it clear how long you plan to keep your materials maintained (if at all). In fact - others might help maintain it for you!\n",
    "\n",
    "> **My work won't be useful to anyone else.**\n",
    "\n",
    "You never know how materials might be used. Individuals who contributed to all different types of software projects ended up helping NASA land a rover on Mars!\n",
    "\n",
    "*Partially drawn from [Malvika Sharan's \"Ten Lessons Against Open Science You Can Win\"](https://www.software.ac.uk/blog/2020-12-17-ten-arguments-against-open-science-you-can-win).*\n",
    "\n",
    "Some of the fears listed above are not unique to open science and can occur in closed scientific systems. For example, scooping and reusing without citation are both examples of scientific misconduct that can happen in closed science scenarios. Open science practices can provide more avenues for recourse, such as making a preprint available or giving your data or code a DOI and license. **Having more of your work shared in citable ways gives you more power to prove when misconduct has occurred.**\n",
    "\n",
    "Another example of a fear that occurs in both open and closed spaces is the commitment to maintaining your work beyond publication. Maintenance is a consideration regardless of whether your work was shared - you need to decide how long to store your data and code for yourself in order to reproduce your work, should any questions arise even after publication (we cover sharing and archiving data and code in later days, Open Data and Open Code.) By sharing your research materials, you may actually increase the longevity and impact of what you’ve done if others find your materials useful and help maintain and build on top of them.\n",
    "\n",
    "We recognize that this is not an exhaustive list of concerns and fears toward adopting open science. This list is developed to provide guidance and instill confidence in researchers who intend to do their work more openly moving forward."
   ]
  },
  {
   "cell_type": "markdown",
   "metadata": {
    "execution": {}
   },
   "source": [
    "### Misaligned Incentives\n",
    "\n",
    "In this section, we discuss barriers that block participation in open science that stem from misaligned incentive structures. These all relate to scientific incentives for individuals and organizations and are not aligned with open values.\n",
    "\n",
    "We distinguish between concerns and fears, those associated with changing the culture of how we do science, from the structural barriers that block researchers' abilities to adopt open science practices. We recognize that there is overlap in these categories, but this framing might be useful for understanding what we have control of as individuals and where we need to **encourage more structural changes to our scientific ecosystem**.\n",
    "\n",
    "Incentives can come in many forms, but most in science involve **proposal funding** and **career advancement**. In both of these cases, metrics are used for measuring scientific success (e.g., publication and citation count, as discussed earlier in this course). These current metrics do not capture the entire impact of activities that scientists spend their time doing. Below, we present a few examples of misaligned incentives. While there aren’t perfect answers for overcoming these yet, agencies like NASA and initiatives like DORA and COARA are actively working to update these metrics that define what success means in science, and it will take community action to ensure that open and inclusive practices get the merit they deserve.\n",
    "\n",
    "> **Challenge: Overvaluing Novelty**\n",
    "\n",
    "<img src=\"https://github.com/neuromatch/nasa-open-science/blob/main/tutorials/W1D1_TheEthosOfOpenScience/static/image330.jpg?raw=true\" width = 500 alt = \"Nobel prize.\"/>\n",
    "\n",
    "Awards (for example, prizes or funding) are often given to those who make a big, new scientific discovery or who create a new, exciting tool. This practice overlooks the community that wrote code, curated datasets, maintained fundamental existing tools, and many other important steps that enabled these novelties.\n",
    "\n",
    "**Prizes often disincentivize crediting a team**, since only one or a small group can be awarded a prize (for example, a Nobel Prize can be awarded to up to 3 people only). **This emphasis on novelty and the individual is starting to change, with awards being offered to groups** (e.g., The White House Office of Science & Technology Policy [Open Science Recognition Challenge](https://www.challenge.gov/?challenge=ostp-year-of-open-science-recognition-challenge)) and addition of funding solicitations offered for maintaining tools and infrastructure. However, it will take time for these changes to become the norm.\n",
    "\n",
    "> **Challenge: It Takes More Time to be Open**\n",
    "\n",
    "**Doing open science often requires more time and effort** from researchers to start and maintain. For instance, it can take significantly more time to document and clean code to a degree that the public can easily understand and use it. At the moment, the scientific system doesn’t always reward extra effort like this, which can make it difficult for individuals to spend their time on open activities because it takes time away from starting their next paper. After all, published papers are the main currency of the current scientific system.\n",
    "\n",
    "Updated metrics of success can help to incentivize individuals to do their work openly. The science community is currently in a transition phase where new metrics are being developed, but the old metrics still dominate in many fields and organizations. It’s important for researchers to recognize that they might not be able to achieve complete openness until the system and culture shift.\n"
   ]
  },
  {
   "cell_type": "markdown",
   "metadata": {
    "execution": {}
   },
   "source": [
    "### Social Barriers\n",
    "\n",
    "Meaningful collaborations across diverse communities can require **additional time and effort to coordinate across groups** and to address conflicts. While interacting with the community can be one of the most fulfilling things about Open Science, it might also be a source of disagreements about the direction of the project or how it should be used. That’s where licenses and codes of conduct come into play. **Clear rules for community- and colleague- interactions and use of resources provide a framework to make decisions in a fair and agreed-upon manner**. This can all take additional time, especially at the beginning of a research project, but can save time and headaches down the road.\n",
    "\n",
    "#### Strategies for Communicating Across Differences\n",
    "\n",
    "These are ways you can encourage openness in your discussions around research. For in-person sessions, it's good to encourage discussion of these strategies:\n",
    "\n",
    "- Presume that everyone you work with is doing the best they can at the time.\n",
    "- Attempt collaboration before conflict.\n",
    "- Listen carefully and actively.\n",
    "- Encourage other people to listen as much as they speak.\n",
    "- Practice empathy and humility.\n",
    "- Ask questions that seek to understand your colleagues’ context.\n",
    "- Participate in an authentic and active way that supports the health and longevity of your community.\n",
    "- Exercise consideration and respect in your speech and actions.\n",
    "- Treat other people's identities and cultures with respect: e.g., make an effort to say people's names correctly and refer to them by their chosen pronouns.\n",
    "- Be mindful of your surroundings and of your fellow participants, and take action if you notice a dangerous situation or someone in distress."
   ]
  },
  {
   "cell_type": "markdown",
   "metadata": {
    "execution": {}
   },
   "source": [
    "### Institutional and Infrastructure Barriers\n",
    "\n",
    "#### Institutional Barriers: Institutions Often Move Slowly \n",
    "\n",
    "Institutional barriers to the researcher or practitioner present an additional challenge to adopting open science practices. Researchers interested in adopting open science practices might lack support from their department or project supervisors. The budget, resources, or time in a project cycle might be insufficient to practice open science. Institutions might not recognize open science practices in recruiting, training, or promoting in the organization. Even if organizations show interest in moving toward open science, they can move slowly when setting up new systems of support.\n",
    "\n",
    "In these situations, there isn’t always an obvious mitigation strategy. While we encourage individuals to practice open science, there may be aspects that just aren’t feasible at this point in time without spending a lot of extra time and effort, time that may not be recognized or supported by your institution. It’s best to work within the bounds of the system you are in, and while the entire scientific community is in a transition phase to being more open, it may be that it doesn’t make sense to be open in every way until the institutional barriers are lowered. That said, **the more individuals that push for openness, the - more it will become part of the scientific mindset, and the more likely our organizations are to recognize and support our efforts**.\n",
    "\n",
    "#### Tools & Infrastructure\n",
    "\n",
    "> **Do the right tools and infrastructure exist to support my work?**\n",
    "\n",
    "There are many tools and resources for making our code, data, and results more open, but the required infrastructure is still being built, and may not be in place yet to support open science in each discipline. This is where community input can be helpful. Perhaps there is a community already working on implementing the infrastructure you need. If not, you can **start discussions at conferences or on open online forums to help organize the creation of the tools and infrastructure you and your community need to effectively do open science**.\n",
    "\n",
    "> **How can I get around institute-speciﬁc infrastructure when trying to collaborate with people outside my organization?**\n",
    "\n",
    "Some of the infrastructure (like our computing platforms) is institute-specific, which can be a barrier to collaboration outside of the organization. However, by planning for open collaboration from the start, you can minimize these barriers. For example, you can use freely available tools like GitHub and Google Docs for communication and coordination, even if the computing facilities are institute-specific.\n",
    "\n",
    "> **Open Science is Worth the Effort!**\n",
    "\n",
    "While there are many challenges to the adoption of open science, we believe that its benefits and its ethical imperative to the self and to scientific communities, citizens, and policy-makers outweigh the cost of barriers. In addition, the recognition of barriers and areas for caution provides a first step toward resolving them."
   ]
  },
  {
   "cell_type": "markdown",
   "metadata": {
    "execution": {}
   },
   "source": [
    "### Key Takeaways\n",
    "\n",
    "The following are the key takeaways from this section:\n",
    "\n",
    "- There are valid concerns and fears around making our science more open, but there are often specific open science practices that can help to mitigate these fears.\n",
    "- The misalignment of incentives creates real-world challenges that act as barriers to adopting open science practices. There are ways that individuals can minimize or work with these barriers, as well as organizations and groups that are actively working to update the incentive structure.\n",
    "- Working openly and collaboratively has its challenges, but there are some strategies for communicating across differences.\n",
    "- There are also institutional and infrastructure barriers to adopting open practices, but by using general tools and infrastructure, we can minimize some of these challenges."
   ]
  },
  {
   "cell_type": "markdown",
   "metadata": {
    "execution": {}
   },
   "source": [
    "---\n",
    "## Section 5: Planning for Open Science: From Theory to Practice\n",
    "\n",
    "This day is nearly over, but there's so much more information available about open science – so our last section is for everyone who wants to learn more. In this section, you review ways to start your journey with open science, including a list of resources that you can use now."
   ]
  },
  {
   "cell_type": "markdown",
   "metadata": {
    "execution": {}
   },
   "source": [
    "### Planning for Open Science\n",
    "\n",
    "<img src=\"https://github.com/neuromatch/nasa-open-science/blob/main/tutorials/W1D1_TheEthosOfOpenScience/static/image329.png?raw=true\" style=\"width: 60%; height: auto;\" alt = \"Questions to ask when planning for open science.\"/>\n",
    "\n",
    "It is important to think about, discuss, and plan for desired outcomes and processes when you begin your research. Learn about where the best repositories are for your materials; discuss credit and authorship for each separate open science output, and start using open science tools to organize your work. Reach out to repositories in your discipline and institution (usually library) for help. Including this information in your plans will make you more likely to receive funding.\n",
    "\n",
    "Planning for outputs in advance includes:\n",
    "\n",
    "- Speaking about it and organizing with your research team;\n",
    "- Deciding which tools to use;\n",
    "- Thinking about authorship and credit;\n",
    "- Engaging with relevant stakeholders and research partners, for example, industry, around open science;\n",
    "- Identifying repositories for software and data;\n",
    "- Identifying journals (or other outlets) for publications;\n",
    "- Highlighting these approaches in your grant and much more.\n",
    "\n",
    "In reality, there is an **exploratory stage** where sharing one’s product may not be part of the plan. During active research and data exploration, data, code, and ideas may be created and deleted even daily. It may not be efficient to spend time making these fully open (e.g., creating DOIs, documentation) because you are just exploring! Still, one may choose to make their code public through this process (it should be in some version control repository anyway; there is no harm in making it public). Part of this planning is beginning to think about what would be valuable to science and figuring out how you might share it.\n",
    "\n",
    "**It is important to discuss open science with your research team, lab, group, or partners regularly**. Much of responsible open science may seem to be related to outputs – such as data, software, and publications – but preparing and organizing work for these in advance is critical. It is much more difficult to follow leading practices for these at the end of research, in the 'afterthought' mode. **Open science is both a mindset and culture** that starts when you begin a project.\n",
    "\n",
    "#### Open Science and Data Management Plans\n",
    "\n",
    "Federal agencies and funders consider **data management** crucial for open science because it ensures that research data is well-organized, accessible, and preserved. In recent years, many have included a **requirement as part of proposals** or projects plans for an **Open Science and Data Management Plan** (OSDMP). The OSDMP includes a description of the resources to be used, the products that will be created, how they will be shared, and who will be responsible. These plans can include the data, software, publications, and project governance.\n",
    "\n",
    "Open science and data management plans are essential because they enhance the credibility and reproducibility of research by ensuring that data is well-documented, organized, and preserved over time. Effective OSDMPs can have the following benefits:\n",
    "\n",
    "> **Transparency**\n",
    "\n",
    "Not only builds trust in scientific findings but also allows other researchers to validate and build upon them, fostering a culture of openness and cooperation.\n",
    "\n",
    "> **Effective**\n",
    "\n",
    "Data management can lead to more efficient and cost-effective research processes. By reducing the time spent searching for and organizing data, researchers can dedicate more time to analysis and interpretation, potentially accelerating the pace of discovery and innovation.\n",
    "\n",
    "> **Reproducibility**\n",
    "\n",
    "A key tenet of the scientific method is reproducibility, and a well-developed OSDMP helps ensure that others are able to validate your results.\n",
    "\n",
    "> **Preservation**\n",
    "\n",
    "The research produced by federal funding represents a significant investment, and it is important that research is saved for future generations to access and understand.\n",
    "\n",
    "> **Inclusive**\n",
    "\n",
    "OSDMPs can include research tools and processes that can significantly improve research outcomes through collaboration and consultation.\n",
    "\n",
    "You will learn more about OSDMPs in Day 2.\n",
    "\n",
    "#### An Open Strategy\n",
    "\n",
    "In today's world, many foundations and **agencies that award research grants** increasingly expect proposals to **include an open science strategy**. By including an open science strategy document in your scientific plan, you ensure accessibility and openness in each step of your workflow. Conclude your comprehensive plan with clearly defined steps to make research outputs easily accessible and openly available. The steps identified in your strategy should be integrated into your everyday scientific processes and practices.\n",
    "\n",
    "> **Requirements**\n",
    "\n",
    "Every major research foundation and federal government agency now requires scientists to file a data management plan (DMP) along with their proposed scientific research plan. Some ask for additional details on software/code and publications.\n",
    "\n",
    "> **Include Entire Data Workﬂow Details in the Plan**\n",
    "\n",
    "Describe your management workflow for data and related research. Other elements, such as code or a publication, have their own lifecycle and workflow which needs to be in the plan.\n",
    "\n",
    "> **Include Open Terminology and Concepts**\n",
    "\n",
    "Plans that are successful typically include clear terminology about how information is made findable, accessible, interoperable, and reusable. This can include licenses, repositories, formats, and governance of the project.\n",
    "\n",
    "> **Preservation**\n",
    "\n",
    "Research materials are valuable and reusable long after the project's financial support ends. Reuse can extend beyond our own lifetimes. Therefore, researchers must arrange steps for preservation and accessibility to ensure work is not lost after a research interaction ends."
   ]
  },
  {
   "cell_type": "markdown",
   "metadata": {
    "execution": {}
   },
   "source": [
    "### Designing for Openness\n",
    "\n",
    "#### Open Science Applies to the Entire Workﬂow\n",
    "\n",
    "<img src=\"https://github.com/neuromatch/nasa-open-science/blob/main/tutorials/W1D1_TheEthosOfOpenScience/static/image402.jpg?raw=true\" alt = \"Open Science Workflow Phases.\"/>\n",
    "\n",
    "*Open Science Workflow Phases Source: Opensciency*\n",
    "\n",
    "Regardless of your science discipline or the methodology that you use, the workflow remains relatively the same. It has a **planning phase**, an **implementation phase**, and a **release phase**. Within these phases, there are milestones that vary depending on the workflow you follow. For the purpose of our discussion in this section and the other days in the curriculum, we have adopted the scientific workflow with general milestones described in the [Opensciency](https://opensciency.github.io/sprint-content/) curriculum. The details in your workflow may vary, but the overall concepts are the same. What is relevant here is that when adopting open science, it permeates all phases of the workflow. You prepare for it in the planning phase but then continue to integrate the principles of it throughout the implementation and release phases.\n",
    "\n",
    "Products created throughout the scientific process are needed to enable others to reproduce the findings. Researchers who wish to make their results reproducible must make key elements of their study openly available for others to test.\n",
    "\n",
    "<img src=\"https://github.com/neuromatch/nasa-open-science/blob/main/tutorials/W1D1_TheEthosOfOpenScience/static/image130.jpg?raw=true\" alt = \"Open Science Workflow Products.\"/>\n",
    "\n",
    "*Open Science Workflow Phases Source: Opensciency*\n",
    "\n",
    "Continuing through the workflow, this updated diagram now shows the types of scientific products that are created at each milestone. The specialized products that you create may vary or be completely different, but the focus on discovery for the public remains the same. Any type of products you create can be modified to support the principles and concepts of open science."
   ]
  },
  {
   "cell_type": "markdown",
   "metadata": {
    "execution": {}
   },
   "source": [
    "### Use, Make, Share\n",
    "\n",
    "Here, we introduce the \"Use, Make, Share\" framework that can start to gradually increase your adoption of open science depending on the nature and scope of your project. Throughout the course, we will explore how this framework can be used to make your science more open!\n",
    "\n",
    "#### What Resources Will You Use?\n",
    "\n",
    "There are already many open science resources for you to use! Open science already has a long history. For example, the act that created NASA mandated sharing of its discoveries with all of humanity and NASA has been sharing its data openly on the internet since the 1980s. Now, there are already over 100 Petabytes of openly available NASA data for you to search, download, and use and examples of these services are provided in Day 3. Technology and practices have been developed around code that make it easy to collaborate on building complex solutions, and examples are given in Day 4. A range of services make it easy to share and discover open access publications and these are discussed in Day 5.\n",
    "\n",
    "#### What Outputs Will You Make?\n",
    "\n",
    "Throughout the research process, there will be different products and results produced. These can range from data sets, samples, code, reports, manuscripts, conference proceedings, blog posts, and videos. Each of these have different considerations about how to make them including how they can be made in open and collaborative ways.\n",
    "\n",
    "There are also different ways to run a scientific project. Is your project going to be open from inception or open at publication? There are valid reasons for both approaches, but generally the earlier you are open with data, code, and results, the more opportunities there are to grow collaboration networks and build with others (which is quite fun). Often researchers choose to be open within their project teams during development, exchanging data, code, and results, but then only sharing with the world once they feel they have a result they can trust. While this approach has been the cultural ‘norm’ within many communities, this is changing as groups grow more comfortable with openness earlier in projects and experience valuable contributions from others and build new collaboration networks.\n",
    "\n",
    "Days 3, 4, and 5 will discuss how to make your data, code, and results open.\n",
    "\n",
    "#### How Will You Share?\n",
    "\n",
    "Where you choose to share your research materials and results will have a large influence on its impact – how easy it is for others to find it, how long it is available, and how easy it is to reuse.\n",
    "\n",
    "Will you share data in a file filled with columns of unlabeled numbers without any units or explanations, or will it be in an open, standard format and following the [Findable, Accessible, Interoperable, Reusable (FAIR) principles](https://www.go-fair.org/fair-principles/)? Day 3 has more details to help you better understand how to share your data and explains ideas like FAIR and best practices in sharing data. This includes different considerations for where to share your data as well so that it is both accessible and preserved.\n",
    "\n",
    "For software, since it is often updated and changed, many researchers first share it on a version control platform like GitHub or GitLab but then archive a version of it in a repository that has long-term preservation capabilities – more on this in Day 4!\n",
    "\n",
    "For results, open access publications and preprint servers are common locations to share. Day 5 discusses all these options."
   ]
  },
  {
   "cell_type": "markdown",
   "metadata": {
    "execution": {}
   },
   "source": [
    "### Steps to Continue Your Open Science Journey\n",
    "\n",
    "Here, we will explore the next steps to open science that everybody can take. The thought that open science can impact your entire scientific workflow may seem overwhelming and unachievable, but this is not the case. You can start slowly and gradually increase your adoption depending on the nature and scope of your project. Here are a few immediate ways that you can start engaging in open science.\n",
    "\n",
    "#### Where to Go From Here\n",
    "\n",
    "- Get involved: Become part of an open science community in your sector.\n",
    "- Start using/sharing the open science tools of your community.\n",
    "- Learn how to use/archive data in repositories and community tools and resources.\n",
    "- Concise statement of the Ethos of Open Science: Find, collaborate, and share!\n",
    "\n",
    "#### Identify Your Open Science Communities\n",
    "\n",
    "Here are the steps you can take to find your own science community:\n",
    "\n",
    "- Talk with your colleagues.\n",
    "- Read your field’s literature.\n",
    "- Run searches, in general and discipline-specific areas.\n",
    "- Investigate online communities encouraging open science, such as:\n",
    "  - The EU's '[Foster Open Science](https://www.fosteropenscience.eu/)' program \n",
    "  - [The Turing Way online manual](https://the-turing-way.netlify.app/index.html) \n",
    "  - [FORRT](https://forrt.org/)\n",
    "\n",
    "Join open science communities. There are generic ones as listed here or you can seek out communities that are not only within your domain but also within your geographical area.\n",
    "\n",
    "- [TOPS GitHub discussion board](https://github.com/nasa/Transform-to-Open-Science/discussions)\n",
    "- Opensciency online open science [community list](https://opensciency.github.io/sprint-content/open-tools-resources/lesson5-open-science-communities.html#communities-of-practice-list)\n",
    "\n",
    "#### Explore Open Repositories\n",
    "\n",
    "There are many repositories that host open data, software, and results. We share many of these resources in the later modules, but here are two NASA repositories that allow you to search for existing data collections that might be relevant to your interests.\n",
    "\n",
    "- [Science Discovery Engine](http://science.data.nasa.gov/search)\n",
    "- [NASA Open Data Portal](https://data.nasa.gov/)\n",
    "\n",
    "#### Four Steps to Open Science that Anyone Can Take\n",
    "\n",
    "1. Keep seeking best practices for open science, and develop plans to be more open in your science or research.\n",
    "2. Think about all the different types of reviews you are involved with, and how to improve them with a goal of openness.\n",
    "3. Ask colleagues about open science activities, and award credit for them in evaluations.\n",
    "4. Engage with underrepresented communities to ensure science encourages a more equitable, impactful, and positive future.\n",
    "\n",
    "#### Additional Resources\n",
    "\n",
    "In addition to the resources listed elsewhere in this training, the community resources below are excellent sources of information about Open Software.\n",
    "\n",
    "**Disclaimer:** Please note that we reference several papers throughout the course, and depending on the paper, it might be blocked by a paywall. If you would like to get a copy of the paper, please contact the Author or search for it in an online preprint archive. For example, [bioRxiv.org](http://biorxiv.org/).\n",
    "\n",
    "- [OpenSciency](https://opensciency.github.io/sprint-content/)\n",
    "- NASA SMD's [Open-Source Science Guidance for researchers](https://smd-cms.nasa.gov/wp-content/uploads/2023/08/smd-open-source-science-guidance-v2-20230407.pdf)\n",
    "- Turing [Way handbook to reproducible, ethical and collaborative data science](https://the-turing-way.netlify.app/index.html)"
   ]
  },
  {
   "cell_type": "markdown",
   "metadata": {
    "execution": {}
   },
   "source": [
    "### Key Takeaways\n",
    "\n",
    "There is no one way of doing open science, and any steps you take to make your science more open are extremely valuable, especially as we transition to a more open scientific ecosystem in the future. We want people to be able to identify the most important things they \"can\" openly share, but with the ultimate goal of complete openness.\n",
    "\n",
    "The following are the key takeaways from this section:\n",
    "\n",
    "- Preparing and organizing in advance are crucial components for ensuring the effectiveness of open science work.\n",
    "- Open Science and Data Management Plans (OSDMP) provide a plan for how open science is integrated into a project, including the sharing of data, software, and results.\n",
    "- Designing for openness is a critical aspect of making sure that open science is integrated into the entire scientific workflow from start to finish. This includes resources that can be used, products that will be made, and how the science will be shared.\n",
    "- Open Science is already happening - there are already teams conducting their research openly and many resources that can be used to make your research more open.\n",
    "- There are more opportunities to participate and learn about Open Science – this is just the start!"
   ]
  },
  {
   "cell_type": "markdown",
   "metadata": {
    "execution": {}
   },
   "source": [
    "### <span style = \"color: green\">Activity 3:</span> Use, Make, Share\n",
    "\n",
    "*Estimated time for activity: 10 minutes. It is a group activity.*\n",
    "\n",
    "Take a moment to answer the following questions on your current research or on research that you would like to do:\n",
    "\n",
    "- What data, software, or publications do you currently use or would like to use? Are they open or closed?\n",
    "- What are the tools and processes that you currently use? Is it easy to include others in collaboration?\n",
    "- How is your work shared or planned to be shared? Can anyone access your results?\n",
    "\n",
    "Discuss the answers in the group."
   ]
  },
  {
   "cell_type": "markdown",
   "metadata": {
    "execution": {}
   },
   "source": [
    "---\n",
    "# Summary\n",
    "\n",
    "After completing this day, you are able to:\n",
    "\n",
    "- Explain what open science is, why it's a good thing to do, and list some of the benefits and challenges of open science adoption.\n",
    "- Describe the practice of open science, including considerations when writing a management plan and the tasks in the \"Use, Make, Share\" framework.\n",
    "- Evaluate available options when determining whether research products should or should not be open.\n",
    "- List ways to connect with others who are part of the open science community."
   ]
  }
 ],
 "metadata": {
  "colab": {
   "collapsed_sections": [],
   "include_colab_link": true,
   "name": "W1D1_Tutorial1",
   "provenance": [],
   "toc_visible": true
  },
  "kernel": {
   "display_name": "Python 3",
   "language": "python",
   "name": "python3"
  },
  "kernelspec": {
   "display_name": "Python 3 (ipykernel)",
   "language": "python",
   "name": "python3"
  },
  "language_info": {
   "codemirror_mode": {
    "name": "ipython",
    "version": 3
   },
   "file_extension": ".py",
   "mimetype": "text/x-python",
   "name": "python",
   "nbconvert_exporter": "python",
   "pygments_lexer": "ipython3",
   "version": "3.9.21"
  }
 },
 "nbformat": 4,
 "nbformat_minor": 4
}